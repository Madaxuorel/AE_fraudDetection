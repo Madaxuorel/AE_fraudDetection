{
 "cells": [
  {
   "cell_type": "code",
   "execution_count": 1,
   "metadata": {},
   "outputs": [
    {
     "name": "stderr",
     "output_type": "stream",
     "text": [
      "2024-03-05 15:32:52.743707: I tensorflow/core/platform/cpu_feature_guard.cc:193] This TensorFlow binary is optimized with oneAPI Deep Neural Network Library (oneDNN) to use the following CPU instructions in performance-critical operations:  AVX2 AVX512F AVX512_VNNI FMA\n",
      "To enable them in other operations, rebuild TensorFlow with the appropriate compiler flags.\n",
      "2024-03-05 15:32:52.923081: I tensorflow/core/util/port.cc:104] oneDNN custom operations are on. You may see slightly different numerical results due to floating-point round-off errors from different computation orders. To turn them off, set the environment variable `TF_ENABLE_ONEDNN_OPTS=0`.\n",
      "2024-03-05 15:32:52.927801: W tensorflow/compiler/xla/stream_executor/platform/default/dso_loader.cc:64] Could not load dynamic library 'libcudart.so.11.0'; dlerror: libcudart.so.11.0: cannot open shared object file: No such file or directory\n",
      "2024-03-05 15:32:52.927871: I tensorflow/compiler/xla/stream_executor/cuda/cudart_stub.cc:29] Ignore above cudart dlerror if you do not have a GPU set up on your machine.\n",
      "2024-03-05 15:32:53.620678: W tensorflow/compiler/xla/stream_executor/platform/default/dso_loader.cc:64] Could not load dynamic library 'libnvinfer.so.7'; dlerror: libnvinfer.so.7: cannot open shared object file: No such file or directory\n",
      "2024-03-05 15:32:53.620754: W tensorflow/compiler/xla/stream_executor/platform/default/dso_loader.cc:64] Could not load dynamic library 'libnvinfer_plugin.so.7'; dlerror: libnvinfer_plugin.so.7: cannot open shared object file: No such file or directory\n",
      "2024-03-05 15:32:53.620759: W tensorflow/compiler/tf2tensorrt/utils/py_utils.cc:38] TF-TRT Warning: Cannot dlopen some TensorRT libraries. If you would like to use Nvidia GPU with TensorRT, please make sure the missing libraries mentioned above are installed properly.\n"
     ]
    }
   ],
   "source": [
    "import matplotlib.pyplot as plt\n",
    "import numpy as np\n",
    "import pandas as pd\n",
    "import tensorflow as tf\n",
    "\n",
    "from sklearn.metrics import accuracy_score, precision_score, recall_score,f1_score\n",
    "from sklearn.model_selection import train_test_split\n",
    "from tensorflow.keras import layers, losses, regularizers\n",
    "from tensorflow.keras.models import Model\n",
    "from tensorflow.keras.regularizers import l2\n",
    "\n",
    "\n",
    "from sklearn.preprocessing import MinMaxScaler\n",
    "from tensorflow.keras.callbacks import EarlyStopping\n"
   ]
  },
  {
   "cell_type": "code",
   "execution_count": 2,
   "metadata": {},
   "outputs": [],
   "source": [
    "# Load the data\n",
    "data = pd.read_csv(\"train.csv\")\n",
    "\n",
    "# Separate the features and the target\n",
    "X, Y = data.drop(['fraude', 'index'], axis=1), data[\"fraude\"]"
   ]
  },
  {
   "cell_type": "code",
   "execution_count": 3,
   "metadata": {},
   "outputs": [],
   "source": [
    "scaler = MinMaxScaler()\n",
    "X = scaler.fit_transform(X)"
   ]
  },
  {
   "cell_type": "code",
   "execution_count": 4,
   "metadata": {},
   "outputs": [],
   "source": [
    "X_train, X_test, Y_train, Y_test = train_test_split(X, Y, test_size=0.3, random_state=100, stratify=Y)"
   ]
  },
  {
   "cell_type": "code",
   "execution_count": 5,
   "metadata": {},
   "outputs": [],
   "source": [
    "X_train_noAnomaly = X_train[Y_train == 0]\n",
    "Y_train_noAnomaly = Y_train[Y_train == 0]\n",
    "X_test_withAnomalies = X_test\n",
    "Y_test_withAnomalies = Y_test"
   ]
  },
  {
   "cell_type": "code",
   "execution_count": 6,
   "metadata": {},
   "outputs": [],
   "source": [
    "def centered_error_metric(y_true, y_pred):\n",
    "    \"\"\"\n",
    "    Computes the standard deviation of the absolute differences between true and predicted values,\n",
    "    which serves as a measure of how centered the reconstruction errors are.\n",
    "    \"\"\"\n",
    "    abs_error = tf.abs(y_true - y_pred)\n",
    "    mean_error = tf.reduce_mean(abs_error)\n",
    "    squared_diff_from_mean = tf.square(abs_error - mean_error)\n",
    "    mean_squared_diff = tf.reduce_mean(squared_diff_from_mean)\n",
    "    return tf.sqrt(mean_squared_diff)"
   ]
  },
  {
   "cell_type": "code",
   "execution_count": 7,
   "metadata": {},
   "outputs": [],
   "source": [
    "def custom_loss(y_true, y_pred):\n",
    "    # Basic reconstruction loss (e.g., MSE)\n",
    "    reconstruction_loss = tf.reduce_mean(tf.square(y_true - y_pred))\n",
    "    \n",
    "    # Calculate the mean of the absolute errors\n",
    "    abs_error = tf.abs(y_true - y_pred)\n",
    "    mean_error = tf.reduce_mean(abs_error)\n",
    "    # Variance-like term: mean squared difference from the mean error\n",
    "    error_variance = tf.reduce_mean(tf.square(abs_error - mean_error))\n",
    "    \n",
    "    # Balance factor for reconstruction loss and error variance\n",
    "    alpha = 0.5  # Adjust this based on how much you want to penalize variance\n",
    "    \n",
    "    # Custom loss: a combination of reconstruction loss and a penalty for error variance\n",
    "    return reconstruction_loss + alpha * error_variance"
   ]
  },
  {
   "cell_type": "code",
   "execution_count": 8,
   "metadata": {},
   "outputs": [
    {
     "name": "stderr",
     "output_type": "stream",
     "text": [
      "2024-03-05 15:33:03.615748: W tensorflow/compiler/xla/stream_executor/platform/default/dso_loader.cc:64] Could not load dynamic library 'libcuda.so.1'; dlerror: libcuda.so.1: cannot open shared object file: No such file or directory\n",
      "2024-03-05 15:33:03.615802: W tensorflow/compiler/xla/stream_executor/cuda/cuda_driver.cc:265] failed call to cuInit: UNKNOWN ERROR (303)\n",
      "2024-03-05 15:33:03.615830: I tensorflow/compiler/xla/stream_executor/cuda/cuda_diagnostics.cc:156] kernel driver does not appear to be running on this host (adampc): /proc/driver/nvidia/version does not exist\n",
      "2024-03-05 15:33:03.616246: I tensorflow/core/platform/cpu_feature_guard.cc:193] This TensorFlow binary is optimized with oneAPI Deep Neural Network Library (oneDNN) to use the following CPU instructions in performance-critical operations:  AVX2 AVX512F AVX512_VNNI FMA\n",
      "To enable them in other operations, rebuild TensorFlow with the appropriate compiler flags.\n"
     ]
    }
   ],
   "source": [
    "class AnomalyDetector(Model):\n",
    "    def __init__(self,noise_level=0.1):\n",
    "        super(AnomalyDetector, self).__init__()\n",
    "        self.reductionDim = 8\n",
    "        self.encoder = tf.keras.Sequential([\n",
    "            layers.Dense(29, activation=\"relu\" ),  \n",
    "            layers.GaussianNoise(noise_level),\n",
    "            layers.Dense(16, activation=\"relu\"),  \n",
    "            layers.Dense(self.reductionDim, activation=\"relu\")\n",
    "        ])\n",
    "\n",
    "        self.decoder = tf.keras.Sequential([\n",
    "            layers.Dense(self.reductionDim,activation=\"relu\"),\n",
    "            layers.Dense(16, activation=\"relu\"),\n",
    "            layers.Dense(29, activation=\"sigmoid\")\n",
    "        ])\n",
    "\n",
    "    def call(self, x):\n",
    "        encoded = self.encoder(x)\n",
    "        decoded = self.decoder(encoded)\n",
    "        return decoded\n",
    "\n",
    "autoencoder = AnomalyDetector()\n",
    "early_stopping = EarlyStopping(monitor='val_loss', patience=5)"
   ]
  },
  {
   "cell_type": "code",
   "execution_count": 9,
   "metadata": {},
   "outputs": [],
   "source": [
    "autoencoder.compile(optimizer='adam', loss='binary_crossentropy', metrics=\"mse\")"
   ]
  },
  {
   "cell_type": "code",
   "execution_count": 10,
   "metadata": {},
   "outputs": [
    {
     "name": "stdout",
     "output_type": "stream",
     "text": [
      "Epoch 1/30\n",
      "5598/5598 [==============================] - 9s 2ms/step - loss: 0.5924 - mse: 0.0022 - val_loss: 0.5902 - val_mse: 0.0013\n",
      "Epoch 2/30\n",
      "5598/5598 [==============================] - 9s 2ms/step - loss: 0.5900 - mse: 0.0012 - val_loss: 0.5898 - val_mse: 0.0011\n",
      "Epoch 3/30\n",
      "5598/5598 [==============================] - 8s 1ms/step - loss: 0.5898 - mse: 0.0011 - val_loss: 0.5897 - val_mse: 0.0011\n",
      "Epoch 4/30\n",
      "5598/5598 [==============================] - 8s 1ms/step - loss: 0.5896 - mse: 0.0010 - val_loss: 0.5894 - val_mse: 9.5929e-04\n",
      "Epoch 5/30\n",
      "5598/5598 [==============================] - 8s 1ms/step - loss: 0.5893 - mse: 9.0076e-04 - val_loss: 0.5891 - val_mse: 8.3381e-04\n",
      "Epoch 6/30\n",
      "5598/5598 [==============================] - 8s 1ms/step - loss: 0.5891 - mse: 8.1296e-04 - val_loss: 0.5890 - val_mse: 7.8210e-04\n",
      "Epoch 7/30\n",
      "5598/5598 [==============================] - 8s 1ms/step - loss: 0.5890 - mse: 7.5505e-04 - val_loss: 0.5888 - val_mse: 6.8074e-04\n",
      "Epoch 8/30\n",
      "5598/5598 [==============================] - 8s 1ms/step - loss: 0.5888 - mse: 6.5742e-04 - val_loss: 0.5886 - val_mse: 6.3014e-04\n",
      "Epoch 9/30\n",
      "5598/5598 [==============================] - 8s 1ms/step - loss: 0.5887 - mse: 6.1899e-04 - val_loss: 0.5886 - val_mse: 6.1578e-04\n",
      "Epoch 10/30\n",
      "5598/5598 [==============================] - 8s 1ms/step - loss: 0.5886 - mse: 6.0747e-04 - val_loss: 0.5886 - val_mse: 6.1161e-04\n",
      "Epoch 11/30\n",
      "5598/5598 [==============================] - 8s 1ms/step - loss: 0.5886 - mse: 6.0071e-04 - val_loss: 0.5886 - val_mse: 6.0633e-04\n",
      "Epoch 12/30\n",
      "5598/5598 [==============================] - 8s 1ms/step - loss: 0.5886 - mse: 5.9446e-04 - val_loss: 0.5886 - val_mse: 6.0699e-04\n",
      "Epoch 13/30\n",
      "5598/5598 [==============================] - 8s 1ms/step - loss: 0.5886 - mse: 5.8746e-04 - val_loss: 0.5885 - val_mse: 5.9641e-04\n",
      "Epoch 14/30\n",
      "5598/5598 [==============================] - 8s 1ms/step - loss: 0.5886 - mse: 5.8232e-04 - val_loss: 0.5885 - val_mse: 5.9086e-04\n",
      "Epoch 15/30\n",
      "5598/5598 [==============================] - 8s 1ms/step - loss: 0.5885 - mse: 5.7878e-04 - val_loss: 0.5885 - val_mse: 5.8445e-04\n",
      "Epoch 16/30\n",
      "5598/5598 [==============================] - 8s 1ms/step - loss: 0.5885 - mse: 5.7621e-04 - val_loss: 0.5885 - val_mse: 5.8484e-04\n",
      "Epoch 17/30\n",
      "5598/5598 [==============================] - 8s 1ms/step - loss: 0.5885 - mse: 5.7432e-04 - val_loss: 0.5885 - val_mse: 5.8332e-04\n",
      "Epoch 18/30\n",
      "5598/5598 [==============================] - 8s 1ms/step - loss: 0.5885 - mse: 5.7240e-04 - val_loss: 0.5885 - val_mse: 5.9638e-04\n",
      "Epoch 19/30\n",
      "5598/5598 [==============================] - 8s 1ms/step - loss: 0.5885 - mse: 5.7096e-04 - val_loss: 0.5885 - val_mse: 5.8526e-04\n",
      "Epoch 20/30\n",
      "5598/5598 [==============================] - 8s 1ms/step - loss: 0.5885 - mse: 5.6963e-04 - val_loss: 0.5885 - val_mse: 5.8189e-04\n",
      "Epoch 21/30\n",
      "5598/5598 [==============================] - 8s 1ms/step - loss: 0.5885 - mse: 5.6817e-04 - val_loss: 0.5885 - val_mse: 5.8478e-04\n",
      "Epoch 22/30\n",
      "5598/5598 [==============================] - 8s 1ms/step - loss: 0.5885 - mse: 5.6745e-04 - val_loss: 0.5885 - val_mse: 5.8774e-04\n",
      "Epoch 23/30\n",
      "5598/5598 [==============================] - 8s 1ms/step - loss: 0.5885 - mse: 5.6764e-04 - val_loss: 0.5884 - val_mse: 5.8055e-04\n",
      "Epoch 24/30\n",
      "5598/5598 [==============================] - 8s 1ms/step - loss: 0.5885 - mse: 5.6710e-04 - val_loss: 0.5884 - val_mse: 5.7937e-04\n",
      "Epoch 25/30\n",
      "5598/5598 [==============================] - 8s 1ms/step - loss: 0.5885 - mse: 5.6700e-04 - val_loss: 0.5884 - val_mse: 5.8184e-04\n",
      "Epoch 26/30\n",
      "5598/5598 [==============================] - 8s 1ms/step - loss: 0.5884 - mse: 5.6576e-04 - val_loss: 0.5884 - val_mse: 5.7874e-04\n",
      "Epoch 27/30\n",
      "5598/5598 [==============================] - 8s 1ms/step - loss: 0.5884 - mse: 5.6266e-04 - val_loss: 0.5884 - val_mse: 5.7597e-04\n",
      "Epoch 28/30\n",
      "5598/5598 [==============================] - 8s 1ms/step - loss: 0.5884 - mse: 5.6024e-04 - val_loss: 0.5884 - val_mse: 5.7548e-04\n",
      "Epoch 29/30\n",
      "5598/5598 [==============================] - 8s 2ms/step - loss: 0.5884 - mse: 5.5916e-04 - val_loss: 0.5884 - val_mse: 5.7746e-04\n",
      "Epoch 30/30\n",
      "5598/5598 [==============================] - 8s 1ms/step - loss: 0.5884 - mse: 5.5817e-04 - val_loss: 0.5884 - val_mse: 5.6785e-04\n"
     ]
    },
    {
     "data": {
      "text/plain": [
       "<keras.callbacks.History at 0x7f7081e4b670>"
      ]
     },
     "execution_count": 10,
     "metadata": {},
     "output_type": "execute_result"
    }
   ],
   "source": [
    "autoencoder.fit(X_train_noAnomaly, X_train_noAnomaly,\n",
    "                epochs=30,\n",
    "                shuffle=True,\n",
    "                validation_data=(X_test, X_test),\n",
    "                callbacks=[early_stopping])"
   ]
  },
  {
   "cell_type": "code",
   "execution_count": 11,
   "metadata": {},
   "outputs": [
    {
     "name": "stdout",
     "output_type": "stream",
     "text": [
      "2404/2404 [==============================] - 1s 575us/step\n"
     ]
    }
   ],
   "source": [
    "X_test_WA_pred = autoencoder.predict(X_test_withAnomalies)\n",
    "mse = np.mean(np.power(X_test_withAnomalies - X_test_WA_pred, 2), axis=1)"
   ]
  },
  {
   "cell_type": "code",
   "execution_count": 16,
   "metadata": {},
   "outputs": [
    {
     "name": "stdout",
     "output_type": "stream",
     "text": [
      "0.0016545987462991594\n"
     ]
    }
   ],
   "source": [
    "print(np.std((mse)))"
   ]
  },
  {
   "cell_type": "code",
   "execution_count": 17,
   "metadata": {},
   "outputs": [
    {
     "name": "stdout",
     "output_type": "stream",
     "text": [
      "Average reconstruction error (train): 0.000567846125441171\n"
     ]
    }
   ],
   "source": [
    "print(f'Average reconstruction error (train): {np.mean(mse)}')"
   ]
  },
  {
   "cell_type": "code",
   "execution_count": 18,
   "metadata": {},
   "outputs": [
    {
     "data": {
      "text/plain": [
       "Text(0, 0.5, 'Frequency')"
      ]
     },
     "execution_count": 18,
     "metadata": {},
     "output_type": "execute_result"
    },
    {
     "data": {
      "image/png": "[encoded data removed]",
      "text/plain": [
       "<Figure size 640x480 with 1 Axes>"
      ]
     },
     "metadata": {},
     "output_type": "display_data"
    }
   ],
   "source": [
    "plt.subplot(1, 2, 1)\n",
    "plt.hist(mse, bins=50, alpha=0.6,range=(0,0.001), color='blue')\n",
    "plt.title('Reconstruction error distribution (Train)')\n",
    "plt.xlabel('Reconstruction error')\n",
    "plt.ylabel('Frequency')"
   ]
  },
  {
   "cell_type": "code",
   "execution_count": 19,
   "metadata": {},
   "outputs": [],
   "source": [
    "thresholds = np.linspace(0, 0.1, 100)\n",
    "f1_scores = []\n",
    "for thresh in thresholds:\n",
    "    preds = [1 if e > thresh else 0 for e in mse]\n",
    "    f1 = f1_score(Y_test, preds)\n",
    "    f1_scores.append(f1)"
   ]
  },
  {
   "cell_type": "code",
   "execution_count": 20,
   "metadata": {},
   "outputs": [],
   "source": [
    "max_f1 = max(f1_scores)\n",
    "max_f1_threshold = thresholds[f1_scores.index(max_f1)]"
   ]
  },
  {
   "cell_type": "code",
   "execution_count": 21,
   "metadata": {},
   "outputs": [
    {
     "data": {
      "text/plain": [
       "0.00909090909090909"
      ]
     },
     "execution_count": 21,
     "metadata": {},
     "output_type": "execute_result"
    }
   ],
   "source": [
    "max_f1_threshold"
   ]
  },
  {
   "cell_type": "code",
   "execution_count": 22,
   "metadata": {},
   "outputs": [],
   "source": [
    "predictions = [1 if e > max_f1_threshold else 0 for e in mse]"
   ]
  },
  {
   "cell_type": "code",
   "execution_count": 23,
   "metadata": {},
   "outputs": [
    {
     "data": {
      "text/plain": [
       "(76898, 76898)"
      ]
     },
     "execution_count": 23,
     "metadata": {},
     "output_type": "execute_result"
    }
   ],
   "source": [
    "(len(predictions)),len(Y_test_withAnomalies)"
   ]
  },
  {
   "cell_type": "code",
   "execution_count": 24,
   "metadata": {},
   "outputs": [
    {
     "name": "stdout",
     "output_type": "stream",
     "text": [
      "Maximum F1 Score: 0.5766423357664233\n",
      "Best Threshold: 0.00909090909090909\n",
      "Accuracy: 0.9984915082316835\n",
      "F1 Score: 0.5766423357664233\n",
      "Precision: 0.5602836879432624\n",
      "Recall: 0.5939849624060151\n"
     ]
    }
   ],
   "source": [
    "accuracy = accuracy_score(Y_test_withAnomalies, predictions)\n",
    "f1 = f1_score(Y_test_withAnomalies, predictions)\n",
    "precision = precision_score(Y_test_withAnomalies, predictions)\n",
    "recall = recall_score(Y_test_withAnomalies, predictions)\n",
    "\n",
    "print(f'Maximum F1 Score: {max_f1}')\n",
    "print(f'Best Threshold: {max_f1_threshold}')\n",
    "print(f'Accuracy: {accuracy}')\n",
    "print(f'F1 Score: {f1}')\n",
    "print(f'Precision: {precision}')\n",
    "print(f'Recall: {recall}')"
   ]
  },
  {
   "cell_type": "code",
   "execution_count": null,
   "metadata": {},
   "outputs": [],
   "source": [
    "predictionsDf = pd.DataFrame(X_test_WA_pred)"
   ]
  },
  {
   "cell_type": "code",
   "execution_count": null,
   "metadata": {},
   "outputs": [],
   "source": [
    "predictionsDf[\"Mse\"] = mse\n",
    "predictionsDf[\"Prediction\"] = predictions\n",
    "predictionsDf[\"True\"] = list(Y_test_withAnomalies)"
   ]
  },
  {
   "cell_type": "code",
   "execution_count": null,
   "metadata": {},
   "outputs": [],
   "source": [
    "predictionsDf.to_csv(\"predictions.csv\")"
   ]
  }
 ],
 "metadata": {
  "kernelspec": {
   "display_name": "Python 3",
   "language": "python",
   "name": "python3"
  },
  "language_info": {
   "codemirror_mode": {
    "name": "ipython",
    "version": 3
   },
   "file_extension": ".py",
   "mimetype": "text/x-python",
   "name": "python",
   "nbconvert_exporter": "python",
   "pygments_lexer": "ipython3",
   "version": "3.10.12"
  },
  "orig_nbformat": 4
 },
 "nbformat": 4,
 "nbformat_minor": 2
}
